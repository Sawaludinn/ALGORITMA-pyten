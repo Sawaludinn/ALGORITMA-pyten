{
  "cells": [
    {
      "cell_type": "markdown",
      "metadata": {
        "id": "view-in-github",
        "colab_type": "text"
      },
      "source": [
        "<a href=\"https://colab.research.google.com/github/Sawaludinn/ALGORITMA-pyten/blob/main/tugas%20p6%20senin.ipynb\" target=\"_parent\"><img src=\"https://colab.research.google.com/assets/colab-badge.svg\" alt=\"Open In Colab\"/></a>"
      ]
    },
    {
      "cell_type": "code",
      "source": [
        "#Soal 1 dengan bu sevinurafni\n",
        "S = [4, 1, -1, 10, 0, 12]\n",
        "\n",
        "D = int(input(\"Masukkan nilai D: \"))\n",
        "\n",
        "S = [x * D for x in S]\n",
        "\n",
        "print(\"Array setelah dikalikan dengan D:\", S)"
      ],
      "metadata": {
        "id": "Rvu5j3pkbKZq",
        "outputId": "c127461b-9d06-46e1-9583-a57340c96b6f",
        "colab": {
          "base_uri": "https://localhost:8080/"
        }
      },
      "execution_count": 39,
      "outputs": [
        {
          "output_type": "stream",
          "name": "stdout",
          "text": [
            "Masukkan nilai D: 5\n",
            "Array setelah dikalikan dengan D: [20, 5, -5, 50, 0, 60]\n"
          ]
        }
      ]
    },
    {
      "cell_type": "code",
      "source": [
        "# Soal 2 dengan bu Sevinurafni\n",
        "T1 = [9, 12, 30, -1, 0, 4, -1, 3, 30, 14]\n",
        "nilai_terbesarT1 = max(T1)\n",
        "print (\"nilai terbesar dari T1 adalah\", nilai_terbesarT1)\n",
        "\n",
        "nilai_terkecilT1 = min(T1)\n",
        "print (\"nilai terkecil dari T1 adalah\", nilai_terkecilT1)\n",
        "\n",
        "T2 = [1, 3, 5, 8, -12, 90, 3, 5]\n",
        "nilai_terbesarT2 = max(T2)\n",
        "print (\"nilai terbesar dari T2 adalah\", nilai_terbesarT2)\n",
        "\n",
        "nilai_terkecilT2 = min(T2)\n",
        "print (\"nilai terkecil dari T2 adalah\", nilai_terkecilT2)"
      ],
      "metadata": {
        "id": "XgqF4JaqbVJO",
        "outputId": "ff37967d-c10c-4cbd-dd1d-8928b522bbf7",
        "colab": {
          "base_uri": "https://localhost:8080/"
        }
      },
      "execution_count": 40,
      "outputs": [
        {
          "output_type": "stream",
          "name": "stdout",
          "text": [
            "nilai terbesar dari T1 adalah 30\n",
            "nilai terkecil dari T1 adalah -1\n",
            "nilai terbesar dari T2 adalah 90\n",
            "nilai terkecil dari T2 adalah -12\n"
          ]
        }
      ]
    }
  ],
  "metadata": {
    "colab": {
      "name": "Selamat Datang di Colaboratory",
      "provenance": [],
      "include_colab_link": true
    },
    "kernelspec": {
      "display_name": "Python 3",
      "name": "python3"
    }
  },
  "nbformat": 4,
  "nbformat_minor": 0
}