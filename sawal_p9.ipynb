{
  "cells": [
    {
      "cell_type": "markdown",
      "metadata": {
        "id": "view-in-github",
        "colab_type": "text"
      },
      "source": [
        "<a href=\"https://colab.research.google.com/github/Sawaludinn/ALGORITMA-pyten/blob/main/sawal_p9.ipynb\" target=\"_parent\"><img src=\"https://colab.research.google.com/assets/colab-badge.svg\" alt=\"Open In Colab\"/></a>"
      ]
    },
    {
      "cell_type": "code",
      "source": [
        "#program nama\n",
        "nama = input(\"masukan nama :\")\n",
        "print(f\"halo, {nama} !selamat belajar python!\")"
      ],
      "metadata": {
        "id": "sfsacWf6WRom",
        "outputId": "83b42d86-8a72-4722-b101-4c43f224179d",
        "colab": {
          "base_uri": "https://localhost:8080/"
        }
      },
      "execution_count": 1,
      "outputs": [
        {
          "output_type": "stream",
          "name": "stdout",
          "text": [
            "masukan nama :sawal\n",
            "halo, sawal !selamat belajar python!\n"
          ]
        }
      ]
    },
    {
      "cell_type": "code",
      "source": [
        "#program menghitung luas persegi panjang\n",
        "p =int(input(\"panjang\"))\n",
        "l =int(input(\"lebar\"))\n",
        "luas=p*l\n",
        "print(\"luas persegi panjang adalah\",luas)"
      ],
      "metadata": {
        "id": "nr0bgDABWmu7",
        "outputId": "866d016a-f884-47a1-c1af-f1f10214b9bc",
        "colab": {
          "base_uri": "https://localhost:8080/"
        }
      },
      "execution_count": 2,
      "outputs": [
        {
          "output_type": "stream",
          "name": "stdout",
          "text": [
            "panjang5\n",
            "lebar3\n",
            "luas persegi panjang adalah 15\n"
          ]
        }
      ]
    },
    {
      "cell_type": "code",
      "source": [
        "#program  menentukan bilangan genap atau ganjil\n",
        "N= int(input())\n",
        "if N % 2 == 0 :\n",
        "    print (f\"{N} adalah bilangan genap\")\n",
        "else:\n",
        "  print(f\"{N} adalah bilangan ganjil\")"
      ],
      "metadata": {
        "id": "vaJ9RHaIWuE9",
        "outputId": "984316c8-525c-494f-e71a-20f7cc285e19",
        "colab": {
          "base_uri": "https://localhost:8080/"
        }
      },
      "execution_count": 6,
      "outputs": [
        {
          "output_type": "stream",
          "name": "stdout",
          "text": [
            "7\n",
            "7 adalah bilangan ganjil\n"
          ]
        }
      ]
    },
    {
      "cell_type": "code",
      "source": [
        "#buat program menampilkan deret bilangan\n",
        "N = int(input())\n",
        "for i in range(1,N+1):\n",
        "  print(i,end=\" \")"
      ],
      "metadata": {
        "id": "8w8409hqWytc",
        "outputId": "7f80ce34-bae1-46fc-bff4-c982247e6cc1",
        "colab": {
          "base_uri": "https://localhost:8080/"
        }
      },
      "execution_count": 8,
      "outputs": [
        {
          "output_type": "stream",
          "name": "stdout",
          "text": [
            "20\n",
            "1 2 3 4 5 6 7 8 9 10 11 12 13 14 15 16 17 18 19 20 "
          ]
        }
      ]
    },
    {
      "cell_type": "code",
      "source": [
        "#program  menghitung bilangan bulat antara a dan b\n",
        "a= int(input(\"masukan angka a :\"))\n",
        "b = int(input(\"masukan angka b :\"))\n",
        "for i in range(a,b+1):\n",
        "    jumlah = sum(range(a, b+1))\n",
        "\n",
        "print(f\"jumlah dari {a} sampai {b} adalah {jumlah}\")"
      ],
      "metadata": {
        "id": "il98pQ93XKtG",
        "outputId": "f4d0f7b1-2cc1-4328-ca2d-7e9959d80333",
        "colab": {
          "base_uri": "https://localhost:8080/"
        }
      },
      "execution_count": 5,
      "outputs": [
        {
          "output_type": "stream",
          "name": "stdout",
          "text": [
            "masukan angka a :3\n",
            "masukan angka b :7\n",
            "jumlah dari 3 sampai 7 adalah 25\n"
          ]
        }
      ]
    },
    {
      "cell_type": "code",
      "source": [
        "#program jumlah angka diantara a dan b\n",
        "a= int(input(\"masukan bilangan bulat a:\"))\n",
        "b = int(input(\"masukan bilangan bulat b:\"))\n",
        "print(\"bilangan genap dalam rentan tersebur adalah: \")\n",
        "\n",
        "for i in range (a, b+1):\n",
        "  if i % 2 == 0 :\n",
        "    print(i,end=\" \")"
      ],
      "metadata": {
        "id": "UH-BhMGCXvz-",
        "outputId": "2f88c1b3-7e65-4e00-e53b-41a309fa93c0",
        "colab": {
          "base_uri": "https://localhost:8080/"
        }
      },
      "execution_count": 9,
      "outputs": [
        {
          "output_type": "stream",
          "name": "stdout",
          "text": [
            "masukan bilangan bulat a:3\n",
            "masukan bilangan bulat b:10\n",
            "bilangan genap dalam rentan tersebur adalah: \n",
            "4 6 8 10 "
          ]
        }
      ]
    },
    {
      "cell_type": "code",
      "source": [
        "#program mencetak  nilai dari array dalam urutan terbalik\n",
        "A =[5,2,8,1]\n",
        "for i in range(len(A)-1, -1, -1):\n",
        "    print(A[i], end= \" \")"
      ],
      "metadata": {
        "id": "oaoiqCwWX186",
        "outputId": "e9f36bc8-9009-45ed-ef24-b5c0547ec2b0",
        "colab": {
          "base_uri": "https://localhost:8080/"
        }
      },
      "execution_count": 10,
      "outputs": [
        {
          "output_type": "stream",
          "name": "stdout",
          "text": [
            "1 8 2 5 "
          ]
        }
      ]
    },
    {
      "cell_type": "code",
      "source": [
        "# Program untuk mengecek apakah sebuah bilangan adalah bilangan prima\n",
        "\n",
        "def cek_prima(bilangan):\n",
        "    if bilangan <= 1:\n",
        "        return False\n",
        "    for i in range(2, int(bilangan**0.5) + 1):\n",
        "        if bilangan % i == 0:\n",
        "            return False\n",
        "    return True\n",
        "# Meminta input dari pengguna\n",
        "try:\n",
        "    angka = int(input(\"Masukkan sebuah bilangan bulat: \"))\n",
        "    if cek_prima(angka):\n",
        "        print(f\"{angka} adalah bilangan prima.\")\n",
        "    else:\n",
        "        print(f\"{angka} bukan bilangan prima.\")\n",
        "except ValueError:\n",
        "    print(\"Harap masukkan sebuah bilangan bulat yang valid.\")"
      ],
      "metadata": {
        "id": "Cwu1-sxcX_PL",
        "outputId": "3b19b7a4-5e22-43c4-d4f1-565105effbac",
        "colab": {
          "base_uri": "https://localhost:8080/"
        }
      },
      "execution_count": 11,
      "outputs": [
        {
          "output_type": "stream",
          "name": "stdout",
          "text": [
            "Masukkan sebuah bilangan bulat: 3\n",
            "3 adalah bilangan prima.\n"
          ]
        }
      ]
    }
  ],
  "metadata": {
    "colab": {
      "name": "Welcome To Colab",
      "toc_visible": true,
      "provenance": [],
      "include_colab_link": true
    },
    "kernelspec": {
      "display_name": "Python 3",
      "name": "python3"
    }
  },
  "nbformat": 4,
  "nbformat_minor": 0
}