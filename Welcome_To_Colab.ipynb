{
  "cells": [
    {
      "cell_type": "markdown",
      "metadata": {
        "id": "view-in-github",
        "colab_type": "text"
      },
      "source": [
        "<a href=\"https://colab.research.google.com/github/Sawaludinn/ALGORITMA-pyten/blob/main/Welcome_To_Colab.ipynb\" target=\"_parent\"><img src=\"https://colab.research.google.com/assets/colab-badge.svg\" alt=\"Open In Colab\"/></a>"
      ]
    },
    {
      "cell_type": "code",
      "source": [
        "#menghitung jumlah harga barang yang dibeli\n",
        "jumlah_barang = int(input(\"Masukkan jumlah barang yang dibeli: \"))\n",
        "\n",
        "# Inisialisasi total belanja\n",
        "total_belanja = 0\n",
        "\n",
        "# Loop untuk setiap barang\n",
        "for i in range(1, jumlah_barang + 1):\n",
        "    print(\"n Barang ke-i\")\n",
        "    harga_satuan = float(input(\"Masukkan harga satuan barang: \"))\n",
        "    jumlah_unit = int(input(\"Masukkan jumlah unit barang: \"))\n",
        "\n",
        "    # Hitung total harga untuk barang tersebut\n",
        "    total_harga = harga_satuan * jumlah_unit\n",
        "    print(\"Total harga untuk barang ke-i: (total_harga)\")\n",
        "\n",
        "    # Tambahkan ke total belanja\n",
        "    total_belanja += total_harga\n",
        "\n",
        "# Cetak total belanja\n",
        "print(\"n Total belanja Anda adalah: (jumlah_total_belanja)\")"
      ],
      "metadata": {
        "id": "ylTZ_VG8TedX",
        "outputId": "dc37a37a-031c-49ba-833b-bc671447fa43",
        "colab": {
          "base_uri": "https://localhost:8080/"
        }
      },
      "execution_count": 20,
      "outputs": [
        {
          "output_type": "stream",
          "name": "stdout",
          "text": [
            "Masukkan jumlah barang yang dibeli: 5\n",
            "n Barang ke-i\n",
            "Masukkan harga satuan barang: 25\n",
            "Masukkan jumlah unit barang: 3\n",
            "Total harga untuk barang ke-i: (total_harga)\n",
            "n Barang ke-i\n",
            "Masukkan harga satuan barang: 55\n",
            "Masukkan jumlah unit barang: 3\n",
            "Total harga untuk barang ke-i: (total_harga)\n",
            "n Barang ke-i\n",
            "Masukkan harga satuan barang: 50\n",
            "Masukkan jumlah unit barang: 1\n",
            "Total harga untuk barang ke-i: (total_harga)\n",
            "n Barang ke-i\n",
            "Masukkan harga satuan barang: 90\n",
            "Masukkan jumlah unit barang: 2\n",
            "Total harga untuk barang ke-i: (total_harga)\n",
            "n Barang ke-i\n",
            "Masukkan harga satuan barang: 15\n",
            "Masukkan jumlah unit barang: 3\n",
            "Total harga untuk barang ke-i: (total_harga)\n",
            "n Total belanja Anda adalah: (jumlah_total_belanja)\n"
          ]
        }
      ]
    },
    {
      "cell_type": "code",
      "source": [
        "# Meminta input jumlah barang yang dibeli\n",
        "jumlah_barang = int(input(\"Masukkan jumlah barang yang dibeli: \"))\n",
        "\n",
        "# Inisialisasi total belanja\n",
        "total_belanja = 0\n",
        "\n",
        "# Loop untuk setiap barang\n",
        "for i in range(1, jumlah_barang + 1):\n",
        "    print(f\"\\nBarang ke-{i}:\")\n",
        "    harga_satuan = float(input(\"Masukkan harga satuan barang: \"))\n",
        "    jumlah_unit = int(input(\"Masukkan jumlah unit barang: \"))\n",
        "\n",
        "    # Hitung total harga untuk barang tersebut\n",
        "    total_harga = harga_satuan * jumlah_unit\n",
        "    print(f\"Total harga untuk barang ke-{i}: {total_harga}\")\n",
        "\n",
        "    # Tambahkan ke total belanja\n",
        "    total_belanja += total_harga\n",
        "\n",
        "# Cetak total belanja\n",
        "print(f\"\\nTotal belanja Anda adalah: {total_belanja}\")"
      ],
      "metadata": {
        "id": "czQICHYFZ9xv",
        "outputId": "871fbec1-1a78-4fce-d44b-c2b75752a7f0",
        "colab": {
          "base_uri": "https://localhost:8080/"
        }
      },
      "execution_count": 21,
      "outputs": [
        {
          "output_type": "stream",
          "name": "stdout",
          "text": [
            "Masukkan jumlah barang yang dibeli: 2\n",
            "\n",
            "Barang ke-1:\n",
            "Masukkan harga satuan barang: 15\n",
            "Masukkan jumlah unit barang: 3\n",
            "Total harga untuk barang ke-1: 45.0\n",
            "\n",
            "Barang ke-2:\n",
            "Masukkan harga satuan barang: 45\n",
            "Masukkan jumlah unit barang: 2\n",
            "Total harga untuk barang ke-2: 90.0\n",
            "\n",
            "Total belanja Anda adalah: 135.0\n"
          ]
        }
      ]
    }
  ],
  "metadata": {
    "colab": {
      "name": "Welcome To Colab",
      "toc_visible": true,
      "provenance": [],
      "include_colab_link": true
    },
    "kernelspec": {
      "display_name": "Python 3",
      "name": "python3"
    }
  },
  "nbformat": 4,
  "nbformat_minor": 0
}