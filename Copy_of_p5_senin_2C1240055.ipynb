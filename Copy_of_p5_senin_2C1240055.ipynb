{
  "nbformat": 4,
  "nbformat_minor": 0,
  "metadata": {
    "colab": {
      "provenance": [],
      "authorship_tag": "ABX9TyOJozFWydpDUm2W5O8+P/7y",
      "include_colab_link": true
    },
    "kernelspec": {
      "name": "python3",
      "display_name": "Python 3"
    },
    "language_info": {
      "name": "python"
    }
  },
  "cells": [
    {
      "cell_type": "markdown",
      "metadata": {
        "id": "view-in-github",
        "colab_type": "text"
      },
      "source": [
        "<a href=\"https://colab.research.google.com/github/Sawaludinn/ALGORITMA-pyten/blob/main/Copy_of_p5_senin_2C1240055.ipynb\" target=\"_parent\"><img src=\"https://colab.research.google.com/assets/colab-badge.svg\" alt=\"Open In Colab\"/></a>"
      ]
    },
    {
      "cell_type": "code",
      "execution_count": null,
      "metadata": {
        "colab": {
          "base_uri": "https://localhost:8080/"
        },
        "id": "Zf_TxL9i1srg",
        "outputId": "f3c69eb8-56d1-40b4-df16-9d4f6f26fc84"
      },
      "outputs": [
        {
          "output_type": "stream",
          "name": "stdout",
          "text": [
            "Hello,World\n"
          ]
        }
      ],
      "source": [
        "#Program HelloWorld\n",
        "#Mencetak Hello,World ke layar\n",
        "\n",
        "#KAMUS\n",
        "#belum diperlukan\n",
        "\n",
        "#ALGORITMA\n",
        "print('Hello,World')"
      ]
    },
    {
      "cell_type": "code",
      "source": [
        "#Program Test\n",
        "#spesifikasi:menghitung nilai A dan B\n",
        "\n",
        "#KAMUS\n",
        "#A:int\n",
        "#B:int\n",
        "\n",
        "#ALGORITMA\n",
        "A=int(input('masukan nilai A'))        #input\n",
        "B=int(input('masukan nilai B'))\n",
        "\n",
        "A=A+B                    #proses\n",
        "\n",
        "print(A)                 #output\n",
        "print(B)\n"
      ],
      "metadata": {
        "colab": {
          "base_uri": "https://localhost:8080/"
        },
        "id": "nA5Am2HB2mAu",
        "outputId": "e862fd3d-643c-4fe3-e209-c7bbcee6eece"
      },
      "execution_count": null,
      "outputs": [
        {
          "output_type": "stream",
          "name": "stdout",
          "text": [
            "masukan nilai A98\n",
            "masukan nilai B8\n",
            "106\n",
            "8\n"
          ]
        }
      ]
    },
    {
      "cell_type": "code",
      "source": [],
      "metadata": {
        "id": "OWN0GUcNGrUP"
      },
      "execution_count": null,
      "outputs": []
    },
    {
      "cell_type": "code",
      "source": [
        "print(\"Hello world\")"
      ],
      "metadata": {
        "id": "3oPkcDr3GtYV"
      },
      "execution_count": null,
      "outputs": []
    },
    {
      "cell_type": "code",
      "source": [
        "#Harga Per kelereng berdasarkan harga\n",
        "harga_merah=10\n",
        "harga_kuning=20\n",
        "harga_hijau=15\n",
        "\n",
        "#Input jumlah kelereng\n",
        "m=int(input(\"masukan jumlah kelereng merah\"))\n",
        "k=int(input(\"masukan jumlah kelereng kuning\"))\n",
        "h=int(input(\"masukan jumlah kelereng hijau\"))\n",
        "\n",
        "#Menghitung Total Harga\n",
        "total_harga= (m*harga_merah)+(k*harga_kuning)+(h*harga_hijau)\n",
        "\n",
        "#Menampilkan total harga\n",
        "print('total harga yang harus dibayar', total_harga)"
      ],
      "metadata": {
        "colab": {
          "base_uri": "https://localhost:8080/"
        },
        "id": "48mTTMfy-av_",
        "outputId": "8ab348c4-74e4-4959-a5c9-73c3a5907a67"
      },
      "execution_count": null,
      "outputs": [
        {
          "output_type": "stream",
          "name": "stdout",
          "text": [
            "masukan jumlah kelereng merah23\n",
            "masukan jumlah kelereng kuning5\n",
            "masukan jumlah kelereng hijau7\n",
            "total harga yang harus dibayar 435\n"
          ]
        }
      ]
    }
  ]
}