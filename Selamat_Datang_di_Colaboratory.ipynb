{
  "cells": [
    {
      "cell_type": "markdown",
      "metadata": {
        "id": "view-in-github",
        "colab_type": "text"
      },
      "source": [
        "<a href=\"https://colab.research.google.com/github/Sawaludinn/ALGORITMA-pyten/blob/main/Selamat_Datang_di_Colaboratory.ipynb\" target=\"_parent\"><img src=\"https://colab.research.google.com/assets/colab-badge.svg\" alt=\"Open In Colab\"/></a>"
      ]
    },
    {
      "cell_type": "code",
      "source": [
        "# ARRAY S\n",
        "S = [4,1,-1,10,0,12]\n",
        "\n",
        "# input nilai D\n",
        "D =int(input(\"masukan nilai D: \"))\n",
        "\n",
        "# proses perkalian elemen array S dengan D\n",
        "# mengalihkan semua elemen array S demgan D S_new\n",
        "S_new = [x * D for x in S]\n",
        "\n",
        "# Output hasil\n",
        "print(\"Array setelah dikalikan D:\", S_new)"
      ],
      "metadata": {
        "id": "uaKEs0VrIT4I",
        "outputId": "6b585c8e-62cf-41b7-bedc-82235333fffe",
        "colab": {
          "base_uri": "https://localhost:8080/"
        }
      },
      "execution_count": 11,
      "outputs": [
        {
          "output_type": "stream",
          "name": "stdout",
          "text": [
            "masukan nilai D: 2\n",
            "Array setelah dikalikan D: [8, 2, -2, 20, 0, 24]\n"
          ]
        }
      ]
    },
    {
      "cell_type": "code",
      "source": [
        "# Mencari nilai terbesar atau terkecil dari elemen suatu array\n",
        "N = int(input(\"masukan jumlah elemen array:\"))\n",
        "\n",
        "# input elemen array\n",
        "arr = []\n",
        "print(\"masukan elemen array:\")\n",
        "for i in range(N): # Changed 'n' to 'N'\n",
        "  elemen= int(input(f\"masukan elemen ke-{i+1}:\"))\n",
        "  arr.append(elemen)\n",
        "\n",
        "# mencari nilai terbesar\n",
        "nilai_terbesar = max(arr) # Changed 'T' to 'arr' assuming you want to find the max in the populated array\n",
        "\n",
        "\n",
        "#menampilkan hasil\n",
        "print(\"array arr berisi:\",arr) # Changed 'T' to 'arr'\n",
        "print(\"nilai terbesar dari elemen arr adalah:\",nilai_terbesar) # Changed 'T' to 'arr'"
      ],
      "metadata": {
        "id": "5mLiA2qYNk0O",
        "outputId": "edda87d4-1210-481c-9e07-f15b86ff654e",
        "colab": {
          "base_uri": "https://localhost:8080/"
        }
      },
      "execution_count": 13,
      "outputs": [
        {
          "output_type": "stream",
          "name": "stdout",
          "text": [
            "masukan jumlah elemen array:10\n",
            "masukan elemen array:\n",
            "masukan elemen ke-1:9\n",
            "masukan elemen ke-2:12\n",
            "masukan elemen ke-3:30\n",
            "masukan elemen ke-4:-1\n",
            "masukan elemen ke-5:0\n",
            "masukan elemen ke-6:4\n",
            "masukan elemen ke-7:-1\n",
            "masukan elemen ke-8:3\n",
            "masukan elemen ke-9:30\n",
            "masukan elemen ke-10:14\n",
            "array arr berisi: [9, 12, 30, -1, 0, 4, -1, 3, 30, 14]\n",
            "nilai terbesar dari elemen arr adalah: 30\n"
          ]
        }
      ]
    }
  ],
  "metadata": {
    "colab": {
      "name": "Selamat Datang di Colaboratory",
      "toc_visible": true,
      "provenance": [],
      "include_colab_link": true
    },
    "kernelspec": {
      "display_name": "Python 3",
      "name": "python3"
    }
  },
  "nbformat": 4,
  "nbformat_minor": 0
}