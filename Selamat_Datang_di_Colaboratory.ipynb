{
  "cells": [
    {
      "cell_type": "markdown",
      "metadata": {
        "id": "view-in-github",
        "colab_type": "text"
      },
      "source": [
        "<a href=\"https://colab.research.google.com/github/Sawaludinn/ALGORITMA-pyten/blob/main/Selamat_Datang_di_Colaboratory.ipynb\" target=\"_parent\"><img src=\"https://colab.research.google.com/assets/colab-badge.svg\" alt=\"Open In Colab\"/></a>"
      ]
    },
    {
      "cell_type": "code",
      "source": [
        "\n",
        "arr = [10, 20, 30, 40]\n",
        "list_numbers\n"
      ],
      "metadata": {
        "id": "FISmtpsRPO5E",
        "outputId": "58806e0d-7e25-4a39-dc36-3d25111e067d",
        "colab": {
          "base_uri": "https://localhost:8080/"
        }
      },
      "execution_count": 25,
      "outputs": [
        {
          "output_type": "execute_result",
          "data": {
            "text/plain": [
              "[1, 2, 3, 4, 5]"
            ]
          },
          "metadata": {},
          "execution_count": 25
        }
      ]
    },
    {
      "cell_type": "code",
      "source": [
        "list_numbers = [1, 2, 3, 4, 5]\n",
        "list_numbers"
      ],
      "metadata": {
        "id": "d27V8OJnPfGD",
        "outputId": "e368e87c-17d8-41ce-9b62-918979df2ae8",
        "colab": {
          "base_uri": "https://localhost:8080/"
        }
      },
      "execution_count": 24,
      "outputs": [
        {
          "output_type": "execute_result",
          "data": {
            "text/plain": [
              "[1, 2, 3, 4, 5]"
            ]
          },
          "metadata": {},
          "execution_count": 24
        }
      ]
    },
    {
      "cell_type": "code",
      "source": [],
      "metadata": {
        "id": "_kG-2GnnPhVD"
      },
      "execution_count": null,
      "outputs": []
    },
    {
      "cell_type": "code",
      "source": [
        "list_numbers[0] = 100  # Mengubah elemen pertama menjadi 100\n",
        "list_numbers[0]"
      ],
      "metadata": {
        "id": "IGe6BeKpPl7j",
        "outputId": "62041a0d-7880-4e95-ca20-44bb5e210113",
        "colab": {
          "base_uri": "https://localhost:8080/"
        }
      },
      "execution_count": 22,
      "outputs": [
        {
          "output_type": "execute_result",
          "data": {
            "text/plain": [
              "100"
            ]
          },
          "metadata": {},
          "execution_count": 22
        }
      ]
    },
    {
      "cell_type": "code",
      "source": [
        "arr = [1, 2, 3, 4, 5]\n",
        "arr"
      ],
      "metadata": {
        "id": "1s5R2zukQYrb",
        "outputId": "23f21f5c-36af-4d7d-c6d1-820b65b0e0a7",
        "colab": {
          "base_uri": "https://localhost:8080/"
        }
      },
      "execution_count": 26,
      "outputs": [
        {
          "output_type": "execute_result",
          "data": {
            "text/plain": [
              "[1, 2, 3, 4, 5]"
            ]
          },
          "metadata": {},
          "execution_count": 26
        }
      ]
    },
    {
      "cell_type": "code",
      "source": [
        "\n",
        "data = [1, 2, 3, 'hello', 5.5]  # array dengan elemen tipe berbeda\n",
        "arr"
      ],
      "metadata": {
        "id": "gKIgAE4eQcMK",
        "outputId": "7767eae5-7f72-45cb-d8ed-b012836d74ea",
        "colab": {
          "base_uri": "https://localhost:8080/"
        }
      },
      "execution_count": 27,
      "outputs": [
        {
          "output_type": "execute_result",
          "data": {
            "text/plain": [
              "[1, 2, 3, 4, 5]"
            ]
          },
          "metadata": {},
          "execution_count": 27
        }
      ]
    },
    {
      "cell_type": "code",
      "source": [
        "\n",
        "arr = [0] * 5  # Membuat array dengan 5 elemen, semua berisi 0\n",
        "arr"
      ],
      "metadata": {
        "id": "SVruiwtfQk0c",
        "outputId": "f8f9b741-636a-47ba-cd85-b9a66e197028",
        "colab": {
          "base_uri": "https://localhost:8080/"
        }
      },
      "execution_count": 28,
      "outputs": [
        {
          "output_type": "execute_result",
          "data": {
            "text/plain": [
              "[0, 0, 0, 0, 0]"
            ]
          },
          "metadata": {},
          "execution_count": 28
        }
      ]
    },
    {
      "cell_type": "code",
      "source": [
        "\n",
        "arr = [10, 20, 30, 40]\n",
        "print(arr[0])  # Output: 10 (indeks pertama)\n",
        "print(arr[3])  # Output: 40 (indeks terakhir)\n",
        "arr"
      ],
      "metadata": {
        "id": "O-_igADXQwsD",
        "outputId": "4267ba89-331f-40b9-da35-d44869979f6f",
        "colab": {
          "base_uri": "https://localhost:8080/"
        }
      },
      "execution_count": 29,
      "outputs": [
        {
          "output_type": "stream",
          "name": "stdout",
          "text": [
            "10\n",
            "40\n"
          ]
        },
        {
          "output_type": "execute_result",
          "data": {
            "text/plain": [
              "[10, 20, 30, 40]"
            ]
          },
          "metadata": {},
          "execution_count": 29
        }
      ]
    },
    {
      "cell_type": "code",
      "source": [
        "arr = [10, 20, 30, 40, 50]\n",
        "for elemen in arr:\n",
        "    print(elemen)\n",
        "arr"
      ],
      "metadata": {
        "id": "c6wkWgduQ0OL",
        "outputId": "52a53488-aa4a-4123-8698-36f2d9fa5434",
        "colab": {
          "base_uri": "https://localhost:8080/"
        }
      },
      "execution_count": 30,
      "outputs": [
        {
          "output_type": "stream",
          "name": "stdout",
          "text": [
            "10\n",
            "20\n",
            "30\n",
            "40\n",
            "50\n"
          ]
        },
        {
          "output_type": "execute_result",
          "data": {
            "text/plain": [
              "[10, 20, 30, 40, 50]"
            ]
          },
          "metadata": {},
          "execution_count": 30
        }
      ]
    },
    {
      "cell_type": "code",
      "source": [
        "total = 0\n",
        "for elemen in arr:\n",
        "    total += elemen\n",
        "print(total)  # Output: 150\n",
        "arr"
      ],
      "metadata": {
        "id": "FccskrYnRSqT",
        "outputId": "3dd6660b-0cf0-42e8-ae1a-e3f907ca23a5",
        "colab": {
          "base_uri": "https://localhost:8080/"
        }
      },
      "execution_count": 31,
      "outputs": [
        {
          "output_type": "stream",
          "name": "stdout",
          "text": [
            "150\n"
          ]
        },
        {
          "output_type": "execute_result",
          "data": {
            "text/plain": [
              "[10, 20, 30, 40, 50]"
            ]
          },
          "metadata": {},
          "execution_count": 31
        }
      ]
    },
    {
      "cell_type": "code",
      "source": [
        "arr = [30,45,10,20,12,7,19,13,17,2,10,27,5,29]\n",
        "\n",
        "nilai_maks = max(arr)\n",
        "print(\"jadi nilai_maksimal dari arr adalah :\",nilai_maks)"
      ],
      "metadata": {
        "id": "vrA9ax5vT4Ex",
        "outputId": "6b8a6a36-112c-4a2c-fecd-8acea7c073dd",
        "colab": {
          "base_uri": "https://localhost:8080/"
        }
      },
      "execution_count": 14,
      "outputs": [
        {
          "output_type": "stream",
          "name": "stdout",
          "text": [
            "jadi nilai_maksimal dari arr adalah : 45\n"
          ]
        }
      ]
    },
    {
      "cell_type": "code",
      "source": [
        "nilai_min = min(arr)\n",
        "print(\"jadi nilai minimum dari arr adalah :\",nilai_min)"
      ],
      "metadata": {
        "id": "2Nu4iUtUUSqJ",
        "outputId": "662f8db9-7869-41e9-ff2a-e1a8cdeaf025",
        "colab": {
          "base_uri": "https://localhost:8080/"
        }
      },
      "execution_count": 15,
      "outputs": [
        {
          "output_type": "stream",
          "name": "stdout",
          "text": [
            "jadi nilai minimum dari arr adalah : 2\n"
          ]
        }
      ]
    },
    {
      "cell_type": "code",
      "source": [
        "penjumlahan = sum(arr)\n",
        "print(\" jadi penjumlahan dari arr adalah :\",penjumlahan)\n"
      ],
      "metadata": {
        "id": "3Z_gDrYZUe7x",
        "outputId": "796cee73-211e-4e11-efe9-49a5d3d32aab",
        "colab": {
          "base_uri": "https://localhost:8080/"
        }
      },
      "execution_count": 16,
      "outputs": [
        {
          "output_type": "stream",
          "name": "stdout",
          "text": [
            " jadi penjumlahan dari arr adalah : 246\n"
          ]
        }
      ]
    },
    {
      "cell_type": "code",
      "source": [
        "jumlah_arr = len(arr)\n",
        "print(\"jadi jumlah dari arr adalah :\",jumlah_arr)"
      ],
      "metadata": {
        "id": "DVlmrmGeUs06",
        "outputId": "c2e18109-dd6d-466d-ecf0-a4daf33c4ef9",
        "colab": {
          "base_uri": "https://localhost:8080/"
        }
      },
      "execution_count": 17,
      "outputs": [
        {
          "output_type": "stream",
          "name": "stdout",
          "text": [
            "jadi jumlah dari arr adalah : 14\n"
          ]
        }
      ]
    },
    {
      "cell_type": "code",
      "source": [
        "rata_rata = sum(arr)/len(arr)\n",
        "print(\"jadi nilai rata_rata yang benar dari nilai arr adalah :\",rata_rata)"
      ],
      "metadata": {
        "id": "Kw3TNgl6U6nO",
        "outputId": "4ec32fdc-58b1-41c5-f38d-6eeff28225da",
        "colab": {
          "base_uri": "https://localhost:8080/"
        }
      },
      "execution_count": 18,
      "outputs": [
        {
          "output_type": "stream",
          "name": "stdout",
          "text": [
            "jadi nilai rata_rata yang benar dari nilai arr adalah : 17.571428571428573\n"
          ]
        }
      ]
    },
    {
      "cell_type": "code",
      "source": [
        "# Mencari nilai terbesar atau terkecil dari elemen suatu array\n",
        "N = int(input(\"masukan jumlah elemen array:\"))\n",
        "\n",
        "# input elemen array\n",
        "arr = []\n",
        "print(\"masukan elemen array:\")\n",
        "for i in range(N): # Changed 'n' to 'N'\n",
        "  elemen= int(input(f\"masukan elemen ke-{i+1}:\"))\n",
        "  arr.append(elemen)\n",
        "\n",
        "# mencari nilai terbesar\n",
        "nilai_terbesar = max(arr) # jadi nilai terbesarnya dari arr adalah\n",
        "\n",
        "\n",
        "#menampilkan hasil\n",
        "print(\"array arr berisi:\",arr) # Changed 'T' to 'arr'\n",
        "print(\"nilai terbesar dari elemen arr adalah:\",nilai_terbesar) # Changed 'T' to 'arr'"
      ],
      "metadata": {
        "id": "OerIieleWXDK",
        "outputId": "12e99e60-584f-431a-95dd-86e796ef62e3",
        "colab": {
          "base_uri": "https://localhost:8080/"
        }
      },
      "execution_count": 21,
      "outputs": [
        {
          "output_type": "stream",
          "name": "stdout",
          "text": [
            "masukan jumlah elemen array:10\n",
            "masukan elemen array:\n",
            "masukan elemen ke-1:9\n",
            "masukan elemen ke-2:12\n",
            "masukan elemen ke-3:30\n",
            "masukan elemen ke-4:-1\n",
            "masukan elemen ke-5:0\n",
            "masukan elemen ke-6:4\n",
            "masukan elemen ke-7:-1\n",
            "masukan elemen ke-8:3\n",
            "masukan elemen ke-9:30\n",
            "masukan elemen ke-10:14\n",
            "array arr berisi: [9, 12, 30, -1, 0, 4, -1, 3, 30, 14]\n",
            "nilai terbesar dari elemen arr adalah: 30\n"
          ]
        }
      ]
    },
    {
      "cell_type": "code",
      "source": [
        "9,12,30,-1,0,4,-1,3,30,14"
      ],
      "metadata": {
        "id": "hwrg64e0Yh0R"
      },
      "execution_count": null,
      "outputs": []
    }
  ],
  "metadata": {
    "colab": {
      "name": "Selamat Datang di Colaboratory",
      "toc_visible": true,
      "provenance": [],
      "include_colab_link": true
    },
    "kernelspec": {
      "display_name": "Python 3",
      "name": "python3"
    }
  },
  "nbformat": 4,
  "nbformat_minor": 0
}