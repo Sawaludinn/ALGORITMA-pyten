{
  "nbformat": 4,
  "nbformat_minor": 0,
  "metadata": {
    "colab": {
      "provenance": [],
      "authorship_tag": "ABX9TyPfVXY1oI1m5FanRI51cXJr",
      "include_colab_link": true
    },
    "kernelspec": {
      "name": "python3",
      "display_name": "Python 3"
    },
    "language_info": {
      "name": "python"
    }
  },
  "cells": [
    {
      "cell_type": "markdown",
      "metadata": {
        "id": "view-in-github",
        "colab_type": "text"
      },
      "source": [
        "<a href=\"https://colab.research.google.com/github/Sawaludinn/ALGORITMA-pyten/blob/main/pemrograman_p2_.ipynb\" target=\"_parent\"><img src=\"https://colab.research.google.com/assets/colab-badge.svg\" alt=\"Open In Colab\"/></a>"
      ]
    },
    {
      "cell_type": "code",
      "source": [
        "#soal 1\n",
        "# Meminta input dari pengguna\n",
        "angka = int(input(\"Masukkan sebuah bilangan: \"))\n",
        "\n",
        "# Memeriksa apakah angka habis dibagi 3\n",
        "if angka % 3 == 0:\n",
        "    print(f\"Bilangan {angka} habis dibagi 3.\")\n",
        "else:\n",
        "    print(f\"Bilangan {angka} tidak habis dibagi 3.\")"
      ],
      "metadata": {
        "colab": {
          "base_uri": "https://localhost:8080/"
        },
        "id": "WvhNq3ISwB-7",
        "outputId": "e40e9156-89b1-4e01-80a4-aece35a8b110"
      },
      "execution_count": 20,
      "outputs": [
        {
          "output_type": "stream",
          "name": "stdout",
          "text": [
            "Masukkan sebuah bilangan: 7\n",
            "Bilangan 7 tidak habis dibagi 3.\n"
          ]
        }
      ]
    },
    {
      "cell_type": "code",
      "source": [
        "#soal 2\n",
        "nama = input(\"Masukkan nama Anda: \")\n",
        "jenis_kelamin = input(\"Masukkan jenis kelamin Anda (pria/wanita): \").strip().lower()\n",
        "\n",
        "if jenis_kelamin in ['pria', 'laki-laki', 'p']:\n",
        "    print(f\"Halo bro {nama}\")\n",
        "elif  jenis_kelamin in ['wanita', 'perempuan', 'w']:\n",
        "    print(f\"Halo sis {nama}\")\n",
        "else:\n",
        "     print(f\"hallo {nama}\")"
      ],
      "metadata": {
        "colab": {
          "base_uri": "https://localhost:8080/"
        },
        "id": "-P91RaRMwMEE",
        "outputId": "8d2f5ec4-3780-442c-a89f-069d75aab74d"
      },
      "execution_count": 18,
      "outputs": [
        {
          "output_type": "stream",
          "name": "stdout",
          "text": [
            "Masukkan nama Anda: sawal\n",
            "Masukkan jenis kelamin Anda (pria/wanita): pria\n",
            "Halo bro sawal\n"
          ]
        }
      ]
    },
    {
      "cell_type": "code",
      "source": [
        "#soal 3\n",
        "# Meminta input usia dari pengguna\n",
        "usia = int(input(\"Masukkan usia Anda: \"))\n",
        "\n",
        "# Menentukan kategori berdasarkan usia\n",
        "if usia < 13:\n",
        "    print(\"Anda termasuk anak-anak.\")\n",
        "elif usia < 18:\n",
        "    print(\"Anda termasuk remaja.\")\n",
        "elif usia < 60:\n",
        "    print(\"Anda termasuk dewasa.\")\n",
        "else:\n",
        "    print(\"Anda termasuk lansia.\")"
      ],
      "metadata": {
        "colab": {
          "base_uri": "https://localhost:8080/"
        },
        "id": "1zz2WDhfyzQG",
        "outputId": "ffdeee47-b8f8-469e-accb-acb1cfba1fe8"
      },
      "execution_count": 19,
      "outputs": [
        {
          "output_type": "stream",
          "name": "stdout",
          "text": [
            "Masukkan usia Anda: 20\n",
            "Anda termasuk dewasa.\n"
          ]
        }
      ]
    },
    {
      "cell_type": "code",
      "source": [
        "# meminta jumlah jenis barang yang di beli\n",
        "jumlah_barang = int(input(\"masukan jumlah jenis barang yang dibeli: \"))\n",
        "\n",
        "total_belanja = 0 # inisialisasi total belanja\n",
        "\n",
        "# perulangan untuk setiap jenis barang\n",
        "for i in Range(1, jumlah_barang + 1 ) :\n",
        "    print(f\"\\nbarang ke-{i}:\")\n",
        "    harga = float(input(\" masukan harga satuan: \"))\n",
        "    jumlah = int(input(\" masukan jumlah unit: \"))\n",
        "    total_harga = harga * jumlah\n",
        "    print(f\"total harga untuk barang ke-{1}: {total_harga}\")\n",
        "    total_belanja += total_harga # menambahkan ke total belanja\n",
        "\n",
        "#  menampilkan total belanja keseluruhan\n",
        "print(f\"\\nTotal belanja keseluruhan: {total_belanja}\")"
      ],
      "metadata": {
        "colab": {
          "base_uri": "https://localhost:8080/",
          "height": 404
        },
        "id": "KuunLVKQ0LLf",
        "outputId": "8c430622-9a23-486d-d6b1-af8b4752897d"
      },
      "execution_count": 38,
      "outputs": [
        {
          "name": "stdout",
          "output_type": "stream",
          "text": [
            "masukan jumlah jenis barang yang dibeli: 0\n"
          ]
        },
        {
          "output_type": "error",
          "ename": "NameError",
          "evalue": "name 'Range' is not defined",
          "traceback": [
            "\u001b[0;31m---------------------------------------------------------------------------\u001b[0m",
            "\u001b[0;31mNameError\u001b[0m                                 Traceback (most recent call last)",
            "\u001b[0;32m<ipython-input-38-a4f4381a1046>\u001b[0m in \u001b[0;36m<cell line: 0>\u001b[0;34m()\u001b[0m\n\u001b[1;32m      5\u001b[0m \u001b[0;34m\u001b[0m\u001b[0m\n\u001b[1;32m      6\u001b[0m \u001b[0;31m# perulangan untuk setiap jenis barang\u001b[0m\u001b[0;34m\u001b[0m\u001b[0;34m\u001b[0m\u001b[0m\n\u001b[0;32m----> 7\u001b[0;31m \u001b[0;32mfor\u001b[0m \u001b[0mi\u001b[0m \u001b[0;32min\u001b[0m \u001b[0mRange\u001b[0m\u001b[0;34m(\u001b[0m\u001b[0;36m1\u001b[0m\u001b[0;34m,\u001b[0m \u001b[0mjumlah_barang\u001b[0m \u001b[0;34m+\u001b[0m \u001b[0;36m1\u001b[0m \u001b[0;34m)\u001b[0m \u001b[0;34m:\u001b[0m\u001b[0;34m\u001b[0m\u001b[0;34m\u001b[0m\u001b[0m\n\u001b[0m\u001b[1;32m      8\u001b[0m     \u001b[0mprint\u001b[0m\u001b[0;34m(\u001b[0m\u001b[0;34mf\"\\nbarang ke-{i}:\"\u001b[0m\u001b[0;34m)\u001b[0m\u001b[0;34m\u001b[0m\u001b[0;34m\u001b[0m\u001b[0m\n\u001b[1;32m      9\u001b[0m     \u001b[0mharga\u001b[0m \u001b[0;34m=\u001b[0m \u001b[0mfloat\u001b[0m\u001b[0;34m(\u001b[0m\u001b[0minput\u001b[0m\u001b[0;34m(\u001b[0m\u001b[0;34m\" masukan harga satuan: \"\u001b[0m\u001b[0;34m)\u001b[0m\u001b[0;34m)\u001b[0m\u001b[0;34m\u001b[0m\u001b[0;34m\u001b[0m\u001b[0m\n",
            "\u001b[0;31mNameError\u001b[0m: name 'Range' is not defined"
          ]
        }
      ]
    },
    {
      "cell_type": "code",
      "source": [
        "\n",
        "# Meminta jumlah jenis barang yang dibeli\n",
        "jumlah_barang = int(input(\"Masukkan jumlah jenis barang yang dibeli: \"))\n",
        "\n",
        "total_belanja = 0  # Inisialisasi total belanja\n",
        "\n",
        "# Perulangan untuk setiap jenis barang\n",
        "for i in range(1, jumlah_barang + 1):\n",
        "    print(f\"\\nBarang ke-{i}:\")\n",
        "    harga = float(input(\"Masukkan harga satuan: \"))\n",
        "    jumlah = int(input(\"Masukkan jumlah unit: \"))\n",
        "    total_harga = harga * jumlah\n",
        "    print(f\"Total harga untuk barang ke-{i}: {total_harga}\")\n",
        "    total_belanja += total_harga  # Menambahkan ke total belanja\n",
        "\n",
        "# Menampilkan total belanja keseluruhan\n",
        "print(f\"\\nTotal belanja keseluruhan: {total_belanja}\")"
      ],
      "metadata": {
        "colab": {
          "base_uri": "https://localhost:8080/"
        },
        "id": "caNrHtoY1aKN",
        "outputId": "de732b6a-46b7-4954-c163-170feb7a2bf3"
      },
      "execution_count": 21,
      "outputs": [
        {
          "output_type": "stream",
          "name": "stdout",
          "text": [
            "Masukkan jumlah jenis barang yang dibeli: 6\n",
            "\n",
            "Barang ke-1:\n",
            "Masukkan harga satuan: 200\n",
            "Masukkan jumlah unit: 1\n",
            "Total harga untuk barang ke-1: 200.0\n",
            "\n",
            "Barang ke-2:\n",
            "Masukkan harga satuan: 30\n",
            "Masukkan jumlah unit: 5\n",
            "Total harga untuk barang ke-2: 150.0\n",
            "\n",
            "Barang ke-3:\n",
            "Masukkan harga satuan: 20\n",
            "Masukkan jumlah unit: 1\n",
            "Total harga untuk barang ke-3: 20.0\n",
            "\n",
            "Barang ke-4:\n",
            "Masukkan harga satuan: 40\n",
            "Masukkan jumlah unit: 1\n",
            "Total harga untuk barang ke-4: 40.0\n",
            "\n",
            "Barang ke-5:\n",
            "Masukkan harga satuan: 90\n",
            "Masukkan jumlah unit: 1\n",
            "Total harga untuk barang ke-5: 90.0\n",
            "\n",
            "Barang ke-6:\n",
            "Masukkan harga satuan: 75\n",
            "Masukkan jumlah unit: 1\n",
            "Total harga untuk barang ke-6: 75.0\n",
            "\n",
            "Total belanja keseluruhan: 575.0\n"
          ]
        }
      ]
    }
  ]
}